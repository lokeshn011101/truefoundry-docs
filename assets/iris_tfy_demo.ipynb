{
  "nbformat": 4,
  "nbformat_minor": 0,
  "metadata": {
    "colab": {
      "name": "iris-truefoundry-demo",
      "provenance": [],
      "collapsed_sections": [
        "7vR9n-JH3thn",
        "DRjCrWfQ31D3",
        "Je6IJF_A0iM6"
      ]
    },
    "kernelspec": {
      "name": "python3",
      "display_name": "Python 3"
    },
    "language_info": {
      "name": "python"
    }
  },
  "cells": [
    {
      "cell_type": "markdown",
      "source": [
        "# Iris Classification with TrueFoundry\n",
        "\n",
        "More details about the dataset: https://archive.ics.uci.edu/ml/datasets/iris"
      ],
      "metadata": {
        "id": "zJyTFPXrH3Uo"
      }
    },
    {
      "cell_type": "markdown",
      "source": [
        "## Install TrueFoundry libraries\n",
        "\n",
        "1. MLFoundry - for tracking ML experiments\n",
        "2. ServiceFoundry - to deploy applications from trained models"
      ],
      "metadata": {
        "id": "bRa4ej5bBXi8"
      }
    },
    {
      "cell_type": "code",
      "execution_count": null,
      "metadata": {
        "colab": {
          "base_uri": "https://localhost:8080/"
        },
        "id": "Yn6C36497ifC",
        "outputId": "2fd7f587-aa9d-49af-ed1d-283d1fda839e"
      },
      "outputs": [
        {
          "output_type": "stream",
          "name": "stdout",
          "text": [
            "Looking in indexes: https://pypi.org/simple, https://us-python.pkg.dev/colab-wheels/public/simple/\n",
            "Requirement already satisfied: mlfoundry in /usr/local/lib/python3.7/dist-packages (0.3.25)\n",
            "Requirement already satisfied: packaging<22.0,>=21.3 in /usr/local/lib/python3.7/dist-packages (from mlfoundry) (21.3)\n",
            "Requirement already satisfied: scipy<2.0.0,>=1.5.4 in /usr/local/lib/python3.7/dist-packages (from mlfoundry) (1.7.3)\n",
            "Requirement already satisfied: tfy-mlflow-client==0.0.13 in /usr/local/lib/python3.7/dist-packages (from mlfoundry) (0.0.13)\n",
            "Requirement already satisfied: fastparquet<0.8.0,>=0.7.2 in /usr/local/lib/python3.7/dist-packages (from mlfoundry) (0.7.2)\n",
            "Requirement already satisfied: boto3<2.0.0,>=1.14.1 in /usr/local/lib/python3.7/dist-packages (from mlfoundry) (1.24.15)\n",
            "Requirement already satisfied: pandas<2.0.0,>=1.0.0 in /usr/local/lib/python3.7/dist-packages (from mlfoundry) (1.3.5)\n",
            "Requirement already satisfied: GitPython<4.0.0,>=3.1.26 in /usr/local/lib/python3.7/dist-packages (from mlfoundry) (3.1.27)\n",
            "Requirement already satisfied: numpy<2.0.0,>=1.17.0 in /usr/local/lib/python3.7/dist-packages (from mlfoundry) (1.21.6)\n",
            "Requirement already satisfied: psutil<6.0.0,>=5.9.0 in /usr/local/lib/python3.7/dist-packages (from mlfoundry) (5.9.1)\n",
            "Requirement already satisfied: pydantic<2.0.0,>=1.8.2 in /usr/local/lib/python3.7/dist-packages (from mlfoundry) (1.9.1)\n",
            "Requirement already satisfied: whylogs<0.7.0,>=0.6.15 in /usr/local/lib/python3.7/dist-packages (from mlfoundry) (0.6.30)\n",
            "Requirement already satisfied: scikit-learn<2.0.0,>=0.24.2 in /usr/local/lib/python3.7/dist-packages (from mlfoundry) (1.0.2)\n",
            "Requirement already satisfied: importlib-metadata<5.0.0,>=4.11.3 in /usr/local/lib/python3.7/dist-packages (from mlfoundry) (4.11.4)\n",
            "Requirement already satisfied: amplitude-tracker<0.0.8,>=0.0.7 in /usr/local/lib/python3.7/dist-packages (from mlfoundry) (0.0.7)\n",
            "Requirement already satisfied: coolname<2.0.0,>=1.1.0 in /usr/local/lib/python3.7/dist-packages (from mlfoundry) (1.1.0)\n",
            "Requirement already satisfied: tinynetrc<2.0.0,>=1.3.1 in /usr/local/lib/python3.7/dist-packages (from mlfoundry) (1.3.1)\n",
            "Requirement already satisfied: pyarrow<6.0.0,>=5.0.0 in /usr/local/lib/python3.7/dist-packages (from mlfoundry) (5.0.0)\n",
            "Requirement already satisfied: click>=7.0 in /usr/local/lib/python3.7/dist-packages (from tfy-mlflow-client==0.0.13->mlfoundry) (8.1.3)\n",
            "Requirement already satisfied: entrypoints in /usr/local/lib/python3.7/dist-packages (from tfy-mlflow-client==0.0.13->mlfoundry) (0.4)\n",
            "Requirement already satisfied: pyyaml>=5.1 in /usr/local/lib/python3.7/dist-packages (from tfy-mlflow-client==0.0.13->mlfoundry) (6.0)\n",
            "Requirement already satisfied: protobuf<5.0,>=3.12 in /usr/local/lib/python3.7/dist-packages (from tfy-mlflow-client==0.0.13->mlfoundry) (3.17.3)\n",
            "Requirement already satisfied: databricks-cli>=0.8.7 in /usr/local/lib/python3.7/dist-packages (from tfy-mlflow-client==0.0.13->mlfoundry) (0.17.0)\n",
            "Requirement already satisfied: sqlparse>=0.3.1 in /usr/local/lib/python3.7/dist-packages (from tfy-mlflow-client==0.0.13->mlfoundry) (0.4.2)\n",
            "Requirement already satisfied: pytz in /usr/local/lib/python3.7/dist-packages (from tfy-mlflow-client==0.0.13->mlfoundry) (2022.1)\n",
            "Requirement already satisfied: requests>=2.17.3 in /usr/local/lib/python3.7/dist-packages (from tfy-mlflow-client==0.0.13->mlfoundry) (2.28.0)\n",
            "Requirement already satisfied: cloudpickle in /usr/local/lib/python3.7/dist-packages (from tfy-mlflow-client==0.0.13->mlfoundry) (1.3.0)\n",
            "Requirement already satisfied: python-dateutil>2.1 in /usr/local/lib/python3.7/dist-packages (from amplitude-tracker<0.0.8,>=0.0.7->mlfoundry) (2.8.2)\n",
            "Requirement already satisfied: backoff==1.10.0 in /usr/local/lib/python3.7/dist-packages (from amplitude-tracker<0.0.8,>=0.0.7->mlfoundry) (1.10.0)\n",
            "Requirement already satisfied: six>=1.5 in /usr/local/lib/python3.7/dist-packages (from amplitude-tracker<0.0.8,>=0.0.7->mlfoundry) (1.15.0)\n",
            "Requirement already satisfied: monotonic>=1.5 in /usr/local/lib/python3.7/dist-packages (from amplitude-tracker<0.0.8,>=0.0.7->mlfoundry) (1.6)\n",
            "Requirement already satisfied: botocore<1.28.0,>=1.27.15 in /usr/local/lib/python3.7/dist-packages (from boto3<2.0.0,>=1.14.1->mlfoundry) (1.27.15)\n",
            "Requirement already satisfied: s3transfer<0.7.0,>=0.6.0 in /usr/local/lib/python3.7/dist-packages (from boto3<2.0.0,>=1.14.1->mlfoundry) (0.6.0)\n",
            "Requirement already satisfied: jmespath<2.0.0,>=0.7.1 in /usr/local/lib/python3.7/dist-packages (from boto3<2.0.0,>=1.14.1->mlfoundry) (1.0.1)\n",
            "Requirement already satisfied: urllib3<1.27,>=1.25.4 in /usr/local/lib/python3.7/dist-packages (from botocore<1.28.0,>=1.27.15->boto3<2.0.0,>=1.14.1->mlfoundry) (1.25.11)\n",
            "Requirement already satisfied: pyjwt>=1.7.0 in /usr/local/lib/python3.7/dist-packages (from databricks-cli>=0.8.7->tfy-mlflow-client==0.0.13->mlfoundry) (2.4.0)\n",
            "Requirement already satisfied: oauthlib>=3.1.0 in /usr/local/lib/python3.7/dist-packages (from databricks-cli>=0.8.7->tfy-mlflow-client==0.0.13->mlfoundry) (3.2.0)\n",
            "Requirement already satisfied: tabulate>=0.7.7 in /usr/local/lib/python3.7/dist-packages (from databricks-cli>=0.8.7->tfy-mlflow-client==0.0.13->mlfoundry) (0.8.9)\n",
            "Requirement already satisfied: cramjam>=2.3.0 in /usr/local/lib/python3.7/dist-packages (from fastparquet<0.8.0,>=0.7.2->mlfoundry) (2.5.0)\n",
            "Requirement already satisfied: thrift>=0.11.0 in /usr/local/lib/python3.7/dist-packages (from fastparquet<0.8.0,>=0.7.2->mlfoundry) (0.16.0)\n",
            "Requirement already satisfied: fsspec in /usr/local/lib/python3.7/dist-packages (from fastparquet<0.8.0,>=0.7.2->mlfoundry) (2022.5.0)\n",
            "Requirement already satisfied: gitdb<5,>=4.0.1 in /usr/local/lib/python3.7/dist-packages (from GitPython<4.0.0,>=3.1.26->mlfoundry) (4.0.9)\n",
            "Requirement already satisfied: typing-extensions>=3.7.4.3 in /usr/local/lib/python3.7/dist-packages (from GitPython<4.0.0,>=3.1.26->mlfoundry) (4.1.1)\n",
            "Requirement already satisfied: smmap<6,>=3.0.1 in /usr/local/lib/python3.7/dist-packages (from gitdb<5,>=4.0.1->GitPython<4.0.0,>=3.1.26->mlfoundry) (5.0.0)\n",
            "Requirement already satisfied: zipp>=0.5 in /usr/local/lib/python3.7/dist-packages (from importlib-metadata<5.0.0,>=4.11.3->mlfoundry) (3.8.0)\n",
            "Requirement already satisfied: pyparsing!=3.0.5,>=2.0.2 in /usr/local/lib/python3.7/dist-packages (from packaging<22.0,>=21.3->mlfoundry) (3.0.9)\n",
            "Requirement already satisfied: charset-normalizer~=2.0.0 in /usr/local/lib/python3.7/dist-packages (from requests>=2.17.3->tfy-mlflow-client==0.0.13->mlfoundry) (2.0.12)\n",
            "Requirement already satisfied: idna<4,>=2.5 in /usr/local/lib/python3.7/dist-packages (from requests>=2.17.3->tfy-mlflow-client==0.0.13->mlfoundry) (2.10)\n",
            "Requirement already satisfied: certifi>=2017.4.17 in /usr/local/lib/python3.7/dist-packages (from requests>=2.17.3->tfy-mlflow-client==0.0.13->mlfoundry) (2022.6.15)\n",
            "Requirement already satisfied: joblib>=0.11 in /usr/local/lib/python3.7/dist-packages (from scikit-learn<2.0.0,>=0.24.2->mlfoundry) (1.1.0)\n",
            "Requirement already satisfied: threadpoolctl>=2.0.0 in /usr/local/lib/python3.7/dist-packages (from scikit-learn<2.0.0,>=0.24.2->mlfoundry) (3.1.0)\n",
            "Requirement already satisfied: puremagic<2.0,>=1.10 in /usr/local/lib/python3.7/dist-packages (from whylogs<0.7.0,>=0.6.15->mlfoundry) (1.14)\n",
            "Requirement already satisfied: matplotlib<4.0.0,>=3.0.3 in /usr/local/lib/python3.7/dist-packages (from whylogs<0.7.0,>=0.6.15->mlfoundry) (3.2.2)\n",
            "Requirement already satisfied: smart-open>=4.1.2 in /usr/local/lib/python3.7/dist-packages (from whylogs<0.7.0,>=0.6.15->mlfoundry) (5.2.1)\n",
            "Requirement already satisfied: whylabs-client<0.4.0,>=0.3.0 in /usr/local/lib/python3.7/dist-packages (from whylogs<0.7.0,>=0.6.15->mlfoundry) (0.3.0)\n",
            "Requirement already satisfied: whylabs-datasketches>=2.2.0b1 in /usr/local/lib/python3.7/dist-packages (from whylogs<0.7.0,>=0.6.15->mlfoundry) (2.2.0b1)\n",
            "Requirement already satisfied: tqdm<5.0.0,>=4.60.0 in /usr/local/lib/python3.7/dist-packages (from whylogs<0.7.0,>=0.6.15->mlfoundry) (4.64.0)\n",
            "Requirement already satisfied: jsonschema>=3.2.0 in /usr/local/lib/python3.7/dist-packages (from whylogs<0.7.0,>=0.6.15->mlfoundry) (3.2.0)\n",
            "Requirement already satisfied: marshmallow>=3.7.1 in /usr/local/lib/python3.7/dist-packages (from whylogs<0.7.0,>=0.6.15->mlfoundry) (3.16.0)\n",
            "Requirement already satisfied: attrs>=17.4.0 in /usr/local/lib/python3.7/dist-packages (from jsonschema>=3.2.0->whylogs<0.7.0,>=0.6.15->mlfoundry) (21.4.0)\n",
            "Requirement already satisfied: pyrsistent>=0.14.0 in /usr/local/lib/python3.7/dist-packages (from jsonschema>=3.2.0->whylogs<0.7.0,>=0.6.15->mlfoundry) (0.18.1)\n",
            "Requirement already satisfied: setuptools in /usr/local/lib/python3.7/dist-packages (from jsonschema>=3.2.0->whylogs<0.7.0,>=0.6.15->mlfoundry) (57.4.0)\n",
            "Requirement already satisfied: cycler>=0.10 in /usr/local/lib/python3.7/dist-packages (from matplotlib<4.0.0,>=3.0.3->whylogs<0.7.0,>=0.6.15->mlfoundry) (0.11.0)\n",
            "Requirement already satisfied: kiwisolver>=1.0.1 in /usr/local/lib/python3.7/dist-packages (from matplotlib<4.0.0,>=3.0.3->whylogs<0.7.0,>=0.6.15->mlfoundry) (1.4.3)\n",
            "Looking in indexes: https://pypi.org/simple, https://us-python.pkg.dev/colab-wheels/public/simple/\n",
            "\u001b[31mERROR: Could not find a version that satisfies the requirement servicefoundry==0.1.61 (from versions: 0.1.5, 0.1.6, 0.1.7, 0.1.8, 0.1.9, 0.1.10, 0.1.11, 0.1.12, 0.1.13, 0.1.14, 0.1.15, 0.1.16, 0.1.17, 0.1.18, 0.1.19, 0.1.20, 0.1.21, 0.1.22, 0.1.23, 0.1.24, 0.1.25, 0.1.26, 0.1.27, 0.1.28, 0.1.29, 0.1.30, 0.1.31, 0.1.32, 0.1.33, 0.1.34, 0.1.35, 0.1.36, 0.1.37, 0.1.38, 0.1.39, 0.1.41, 0.1.42, 0.1.43, 0.1.44, 0.1.45, 0.1.46, 0.1.47, 0.1.48, 0.1.49, 0.1.50, 0.1.51, 0.1.52, 0.1.53, 0.1.54, 0.1.55, 0.1.56, 0.1.57, 0.1.58, 0.1.59, 0.1.60)\u001b[0m\n",
            "\u001b[31mERROR: No matching distribution found for servicefoundry==0.1.61\u001b[0m\n"
          ]
        }
      ],
      "source": [
        "!pip install mlfoundry\n",
        "!pip install servicefoundry"
      ]
    },
    {
      "cell_type": "code",
      "source": [
        "import pandas as pd\n",
        "from sklearn import datasets\n",
        "from sklearn.model_selection import train_test_split\n",
        "from sklearn.svm import SVC\n",
        "from sklearn.metrics import accuracy_score, f1_score"
      ],
      "metadata": {
        "id": "VC0SzznK757W"
      },
      "execution_count": null,
      "outputs": []
    },
    {
      "cell_type": "markdown",
      "source": [
        "## Create an MLFoundry client and create a run"
      ],
      "metadata": {
        "id": "9d8R9C8aCBr6"
      }
    },
    {
      "cell_type": "code",
      "source": [
        "import mlfoundry as mlf\n",
        "mlf.login()\n",
        "client = mlf.get_client()\n",
        "\n",
        "PROJECT_NAME = 'iris-classification-project-1900'\n",
        "run = client.create_run(project_name=PROJECT_NAME)"
      ],
      "metadata": {
        "colab": {
          "base_uri": "https://localhost:8080/"
        },
        "id": "4xLVD_zOMYDb",
        "outputId": "0553a2da-ead9-4309-86b9-780a38d65755"
      },
      "execution_count": null,
      "outputs": [
        {
          "output_type": "stream",
          "name": "stdout",
          "text": [
            "Please get your API key from https://app.truefoundry.com/settings\n",
            "Paste your API key and hit enter:··········\n",
            "Writing API key at /root/.mlfoundry/credentials.netrc\n",
            "[mlfoundry] 2022-06-23T13:29:05+0000 INFO No run_name given. Using a randomly generated name aquamarine-mongoose. You can pass your own using the `run_name` argument\n",
            "[mlfoundry] 2022-06-23T13:29:06+0000 INFO project iris-classification-project-1900 does not exist. Creating iris-classification-project-1900.\n",
            "[mlfoundry] 2022-06-23T13:29:09+0000 WARNING failed to log git info because git repository is not present\n",
            "[mlfoundry] 2022-06-23T13:29:09+0000 INFO Run 'srihari/iris-classification-project-1900/aquamarine-mongoose' has started.\n"
          ]
        }
      ]
    },
    {
      "cell_type": "markdown",
      "source": [
        "## Split datasets into train and test"
      ],
      "metadata": {
        "id": "TteRmtkJCGV5"
      }
    },
    {
      "cell_type": "code",
      "source": [
        "data = datasets.load_iris()\n",
        "\n",
        "X = pd.DataFrame(data.data, columns=data.feature_names)\n",
        "y = data.target\n",
        "\n",
        "X_train, X_test, y_train, y_test = train_test_split(X, y, train_size=0.8, stratify=y, random_state=42)"
      ],
      "metadata": {
        "id": "DjVvUu0y7_QV"
      },
      "execution_count": null,
      "outputs": []
    },
    {
      "cell_type": "code",
      "source": [
        "print(X.head())\n",
        "print(data.target_names)"
      ],
      "metadata": {
        "colab": {
          "base_uri": "https://localhost:8080/"
        },
        "id": "6A-OrDuCUgxR",
        "outputId": "637856b7-110b-45b9-fcc1-c7960849427e"
      },
      "execution_count": null,
      "outputs": [
        {
          "output_type": "stream",
          "name": "stdout",
          "text": [
            "   sepal length (cm)  sepal width (cm)  petal length (cm)  petal width (cm)\n",
            "0                5.1               3.5                1.4               0.2\n",
            "1                4.9               3.0                1.4               0.2\n",
            "2                4.7               3.2                1.3               0.2\n",
            "3                4.6               3.1                1.5               0.2\n",
            "4                5.0               3.6                1.4               0.2\n",
            "['setosa' 'versicolor' 'virginica']\n"
          ]
        }
      ]
    },
    {
      "cell_type": "markdown",
      "source": [
        "## Initialise the model and log params to MLFoundry"
      ],
      "metadata": {
        "id": "SAxCjkZyCM4k"
      }
    },
    {
      "cell_type": "code",
      "source": [
        "clf = SVC(gamma='scale', kernel='rbf', probability=True, C=1.2)\n",
        "run.set_tags({'framework': 'sklearn', 'task': 'classification'})\n",
        "run.log_params(clf.get_params())"
      ],
      "metadata": {
        "colab": {
          "base_uri": "https://localhost:8080/"
        },
        "id": "KZP3KZhO8GpV",
        "outputId": "bfe60802-cf70-425b-d4c5-4d9d371295a9"
      },
      "execution_count": null,
      "outputs": [
        {
          "output_type": "stream",
          "name": "stdout",
          "text": [
            "[mlfoundry] 2022-06-23T13:29:26+0000 INFO Tags set successfully\n",
            "[mlfoundry] 2022-06-23T13:29:26+0000 INFO Parameters logged successfully\n"
          ]
        }
      ]
    },
    {
      "cell_type": "markdown",
      "source": [
        "## Train the model"
      ],
      "metadata": {
        "id": "zeiYN3CjCSc8"
      }
    },
    {
      "cell_type": "code",
      "source": [
        "clf.fit(X_train, y_train)"
      ],
      "metadata": {
        "colab": {
          "base_uri": "https://localhost:8080/"
        },
        "id": "06JbRQpLNQol",
        "outputId": "ee7e9c08-bb19-4cfd-f090-8d01c9ea3b15"
      },
      "execution_count": null,
      "outputs": [
        {
          "output_type": "execute_result",
          "data": {
            "text/plain": [
              "SVC(C=1.2, probability=True)"
            ]
          },
          "metadata": {},
          "execution_count": 8
        }
      ]
    },
    {
      "cell_type": "markdown",
      "source": [
        "## Make predictions and log metrics to MLFoundry"
      ],
      "metadata": {
        "id": "sbqlC75hCUgJ"
      }
    },
    {
      "cell_type": "code",
      "source": [
        "y_pred_train = clf.predict(X_train)\n",
        "y_pred_test = clf.predict(X_test)\n",
        "\n",
        "metrics = {\n",
        "    'train/accuracy_score': accuracy_score(y_train, y_pred_train),\n",
        "    'train/f1_weighted': f1_score(y_train, y_pred_train, average='weighted'),\n",
        "    'train/f1_mirco': f1_score(y_train, y_pred_train, average='micro'),\n",
        "    'train/f1_macro': f1_score(y_train, y_pred_train, average='macro'),\n",
        "    'test/accuracy_score': accuracy_score(y_test, y_pred_test),\n",
        "    'test/f1_weighted': f1_score(y_test, y_pred_test, average='weighted'),\n",
        "    'test/f1_mirco': f1_score(y_test, y_pred_test, average='micro'),\n",
        "    'test/f1_macro': f1_score(y_test, y_pred_test, average='macro'),\n",
        "}\n",
        "\n",
        "run.log_metrics(metrics)"
      ],
      "metadata": {
        "colab": {
          "base_uri": "https://localhost:8080/"
        },
        "id": "TqjwDFx48QrL",
        "outputId": "489eb2dc-a137-4f9f-e45b-e20a8484e776"
      },
      "execution_count": null,
      "outputs": [
        {
          "output_type": "stream",
          "name": "stdout",
          "text": [
            "[mlfoundry] 2022-06-23T13:29:31+0000 INFO Metrics logged successfully\n"
          ]
        }
      ]
    },
    {
      "cell_type": "markdown",
      "source": [
        "## Log model and end run"
      ],
      "metadata": {
        "id": "bWzmRW6RCitF"
      }
    },
    {
      "cell_type": "code",
      "source": [
        "run.log_model(clf, framework=mlf.ModelFramework.SKLEARN)\n",
        "run.end()"
      ],
      "metadata": {
        "colab": {
          "base_uri": "https://localhost:8080/"
        },
        "id": "JqvyHKohOReG",
        "outputId": "116e89aa-6e80-4455-b5c1-f6894e3d0476"
      },
      "execution_count": null,
      "outputs": [
        {
          "output_type": "stream",
          "name": "stderr",
          "text": [
            "2022/06/23 13:29:48 WARNING mlflow.utils.environment: Encountered an unexpected error while inferring pip requirements (model URI: /tmp/tmpva5xv6sk/model/model.pkl, flavor: sklearn), fall back to return ['scikit-learn==1.0.2', 'cloudpickle==1.3.0']. Set logging level to DEBUG to see the full traceback.\n"
          ]
        },
        {
          "output_type": "stream",
          "name": "stdout",
          "text": [
            "[mlfoundry] 2022-06-23T13:29:51+0000 INFO Model logged successfully\n",
            "[mlfoundry] 2022-06-23T13:29:52+0000 INFO Shutting down background jobs and syncing data for run 'srihari/iris-classification-project-1900/aquamarine-mongoose', please don't kill this process...\n",
            "[mlfoundry] 2022-06-23T13:29:52+0000 INFO Finished syncing data for run 'srihari/iris-classification-project-1900/aquamarine-mongoose'. Thank you for waiting!\n"
          ]
        }
      ]
    },
    {
      "cell_type": "code",
      "source": [
        "print(run.run_id)"
      ],
      "metadata": {
        "colab": {
          "base_uri": "https://localhost:8080/"
        },
        "id": "aXVLO1J0DMjS",
        "outputId": "d497dd30-6c67-4e24-deed-1a16a08e2fe9"
      },
      "execution_count": null,
      "outputs": [
        {
          "output_type": "stream",
          "name": "stdout",
          "text": [
            "e619e9a3243e426aa3aa263c00dc13a4\n"
          ]
        }
      ]
    },
    {
      "cell_type": "markdown",
      "source": [
        "## Login to servicefoundry"
      ],
      "metadata": {
        "id": "wi8QuidwClq6"
      }
    },
    {
      "cell_type": "code",
      "source": [
        "import servicefoundry.core as sfy\n",
        "sfy.login()"
      ],
      "metadata": {
        "colab": {
          "base_uri": "https://localhost:8080/"
        },
        "id": "uQiqX5_o8TFq",
        "outputId": "797aaf34-db90-49a2-e2e1-f789c60bb49d"
      },
      "execution_count": null,
      "outputs": [
        {
          "output_type": "stream",
          "name": "stdout",
          "text": [
            "[yellow]You are logged in as 'srihari' with email 'srihari@truefoundry.com'[/]\n"
          ]
        }
      ]
    },
    {
      "cell_type": "markdown",
      "metadata": {
        "id": "Gscf6-qBmPNZ"
      },
      "source": [
        "### Create a Servicefoundry workspace\n",
        "\n",
        "A Servicefoundry workspace is a collection of related services that share the same set of permissions.\n",
        "\n",
        "To create a workspace:\n",
        "\n",
        "1. Go to <a href=\"https://app.truefoundry.com/workspace\">ServiceFoundry dashboard</a>\n",
        "\n",
        "2. Click on `Create Workspace` to create a new workspace. **Choose the largest tier available since we will be deploying two services.**\n",
        "\n",
        "3. Once the workspace is created, copy the FQN of the workspace. We shall use this to deploy our webapp and service to the workspace."
      ]
    },
    {
      "cell_type": "code",
      "execution_count": null,
      "metadata": {
        "id": "O8ncbYnGd3qd",
        "colab": {
          "base_uri": "https://localhost:8080/"
        },
        "outputId": "93408650-5e29-495b-fd86-f6e79aab9fc0"
      },
      "outputs": [
        {
          "name": "stdout",
          "output_type": "stream",
          "text": [
            "Input workspace FQN copied from the dashboard v1:tfy-dub-euwe1-production:big-ws\n"
          ]
        }
      ],
      "source": [
        "WORKSPACE_FQN = input(\"Input workspace FQN copied from the dashboard \")"
      ]
    },
    {
      "cell_type": "markdown",
      "source": [
        "## Create a Python file to deploy as an API Service\n",
        "\n",
        "In this Python file, we write a function that will return the species of iris flower using the model we just trained.\n",
        "\n",
        "ServiceFoundry will automatically create an endpoint out of this function.\n",
        "\n",
        "Notice that we load the model using `run.get_model()` and we used the run id we printed above after training to load the model without having to write any `sklearn` code.\n",
        "\n",
        "\n",
        "### **IMPORTANT**: While running the notebook, replace the `RUN_ID` with your API key and current run id"
      ],
      "metadata": {
        "id": "7mY6hSo6GjYy"
      }
    },
    {
      "cell_type": "code",
      "source": [
        "%%writefile predict.py\n",
        "import os\n",
        "import pandas as pd\n",
        "import mlfoundry as mlf\n",
        "import json\n",
        "\n",
        "RUN_ID = 'e619e9a3243e426aa3aa263c00dc13a4'\n",
        "\n",
        "client = mlf.get_client(api_key=os.environ.get('TFY_API_KEY'))\n",
        "run = client.get_run(RUN_ID)\n",
        "model = run.get_model()\n",
        "\n",
        "def species(features):\n",
        "  features = json.loads(features)\n",
        "  df = pd.DataFrame.from_dict([features])\n",
        "  prediction = model.predict(df)[0]\n",
        "  return ['setosa', 'versicolor', 'virginica'][prediction]"
      ],
      "metadata": {
        "colab": {
          "base_uri": "https://localhost:8080/"
        },
        "id": "-EBi9-sX9d88",
        "outputId": "81067789-a21c-4c62-a616-3fb11341041c"
      },
      "execution_count": null,
      "outputs": [
        {
          "output_type": "stream",
          "name": "stdout",
          "text": [
            "Overwriting predict.py\n"
          ]
        }
      ]
    },
    {
      "cell_type": "code",
      "source": [
        "requirements = sfy.gather_requirements(\"predict.py\")\n",
        "service = sfy.Service(\"predict.py\", requirements, sfy.Parameters(\n",
        "    name=\"iris-service\",\n",
        "    workspace=WORKSPACE_FQN,\n",
        "    cpu=sfy.CPU(required=1),\n",
        "    memory=sfy.Memory(required=1024 * 1000 * 1000)\n",
        "))\n",
        "\n",
        "service.deploy()"
      ],
      "metadata": {
        "colab": {
          "base_uri": "https://localhost:8080/"
        },
        "id": "2fbK_KzcQDkY",
        "outputId": "22b478d8-9fe8-4cae-a8d4-422b211419d3"
      },
      "execution_count": null,
      "outputs": [
        {
          "output_type": "stream",
          "name": "stdout",
          "text": [
            "Creating directory /content/.servicefoundry/iris-service\n",
            "Created definition file /content/.servicefoundry/iris-service/servicefoundry.yaml\n",
            "Created file /content/.servicefoundry/iris-service/main.py\n",
            "Created file /content/.servicefoundry/iris-service/requirements.txt\n",
            "Created file /content/.servicefoundry/iris-service/Procfile\n",
            "Ignoring .servicefoundry\n"
          ]
        }
      ]
    },
    {
      "cell_type": "markdown",
      "source": [
        "## Deploying a Gradio webapp\n",
        "\n",
        "To deploy a Gradio app for the model, we simply assing the Gradio Interface object to a variable called `app`.\n",
        "\n",
        "Once again, we are using the run_id we printed above (while training) to load the model from MLFoundry"
      ],
      "metadata": {
        "id": "_JnPHK5FHTfN"
      }
    },
    {
      "cell_type": "code",
      "source": [
        "# install gradio\n",
        "!pip install gradio==3.0.17"
      ],
      "metadata": {
        "id": "y9j-0yq52x6O"
      },
      "execution_count": null,
      "outputs": []
    },
    {
      "cell_type": "markdown",
      "source": [
        "\n",
        "### **IMPORTANT**: While running the notebook, replace the `RUN_ID` with your API key and current run id"
      ],
      "metadata": {
        "id": "ukpjO9xgMhZ8"
      }
    },
    {
      "cell_type": "code",
      "source": [
        "%%writefile webapp.py\n",
        "import gradio as gr\n",
        "import pandas as pd\n",
        "import mlfoundry as mlf\n",
        "import json\n",
        "\n",
        "RUN_ID = 'e619e9a3243e426aa3aa263c00dc13a4'\n",
        "\n",
        "client = mlf.get_client(api_key=os.environ.get('TFY_API_KEY'))\n",
        "run = client.get_run(RUN_ID)\n",
        "model = run.get_model()\n",
        "\n",
        "def predict_species(f1, f2, f3, f4):\n",
        "    df = pd.DataFrame.from_dict([[f1, f2, f3, f4]])\n",
        "    prediction = model.predict(df)[0]\n",
        "    return ['setosa', 'versicolor', 'virginica'][prediction]\n",
        "\n",
        "examples = [[5.1, 3.5,\t1.4,\t0.2]]\n",
        "app = gr.Interface(fn=predict_species, title=\"Iris Classification\", inputs=[gr.Number(label=\"sepal length (cm)\"), gr.Number(label=\"sepal width (cm)\"), gr.Number(label=\"petal length (cm)\"), gr.Number(label=\"petal width (cm)\")], outputs=[gr.Textbox(label=\"Answer\")], examples=examples)\n"
      ],
      "metadata": {
        "colab": {
          "base_uri": "https://localhost:8080/"
        },
        "id": "D181soaXpJRC",
        "outputId": "ca848a29-8b0c-4137-f02f-206ba4f1d13a"
      },
      "execution_count": null,
      "outputs": [
        {
          "output_type": "stream",
          "name": "stdout",
          "text": [
            "Writing webapp.py\n"
          ]
        }
      ]
    },
    {
      "cell_type": "code",
      "source": [
        "requirements = sfy.gather_requirements(\"webapp.py\")\n",
        "webapp = sfy.Gradio(\"webapp.py\", requirements, sfy.Parameters(\n",
        "    name=\"gradio-app\",\n",
        "    workspace=WORKSPACE_FQN,\n",
        "    cpu=sfy.CPU(required=1),\n",
        "    memory=sfy.Memory(required=1024 * 1000 * 1000)\n",
        "))\n",
        "\n",
        "webapp.deploy()"
      ],
      "metadata": {
        "id": "21jPySh7sAnX"
      },
      "execution_count": null,
      "outputs": []
    },
    {
      "cell_type": "markdown",
      "source": [
        "## Logging Grid Search Results\n",
        "\n",
        "GridSearch can be used to identify the optimal hyper-parameters for your model. Using MLFoundry, we create a project to track various hyper-parameters and the corresponding model performace.\n",
        "\n",
        "**Each run in this project corresponds to a unique set of hyper-parameters.**"
      ],
      "metadata": {
        "id": "7vR9n-JH3thn"
      }
    },
    {
      "cell_type": "code",
      "source": [
        "from sklearn.model_selection import GridSearchCV\n",
        "\n",
        "iris = datasets.load_iris()\n",
        "parameters = {'kernel':('linear', 'rbf'), 'C':[1, 5, 10]}\n",
        "clf = GridSearchCV(SVC(), parameters)\n",
        "clf.fit(iris.data, iris.target)"
      ],
      "metadata": {
        "colab": {
          "base_uri": "https://localhost:8080/"
        },
        "id": "eS0swWKAwrJL",
        "outputId": "41b1f6d1-66d2-4dfe-94d9-7cd188b3aee2"
      },
      "execution_count": null,
      "outputs": [
        {
          "output_type": "execute_result",
          "data": {
            "text/plain": [
              "GridSearchCV(estimator=SVC(),\n",
              "             param_grid={'C': [1, 5, 10], 'kernel': ('linear', 'rbf')})"
            ]
          },
          "metadata": {},
          "execution_count": 13
        }
      ]
    },
    {
      "cell_type": "code",
      "source": [
        "def log_grid_search_results(project_name, classifier):\n",
        "  results = classifier.cv_results_\n",
        "  count = len(results['mean_test_score'])\n",
        "  runs = [client.create_run(project_name, f'parameter-set-{i+1}') for i in range(0, count)]\n",
        "  [each.set_tags({'run_type': 'grid_search'}) for each in runs]\n",
        "  for i in range(0, count):\n",
        "    runs[i].log_params(results['params'][i])\n",
        "\n",
        "    runs[i].log_metrics({\n",
        "        'rank': results['rank_test_score'][i],\n",
        "        'mean_test_score': results['mean_test_score'][i],\n",
        "        'mean_fit_time': results['mean_fit_time'][i],\n",
        "        'std_score_time': results['std_score_time'][i]\n",
        "    })"
      ],
      "metadata": {
        "id": "j9lTXs2-xv4s"
      },
      "execution_count": null,
      "outputs": []
    },
    {
      "cell_type": "code",
      "source": [
        "log_grid_search_results(PROJECT_NAME, clf)"
      ],
      "metadata": {
        "colab": {
          "base_uri": "https://localhost:8080/"
        },
        "id": "ySAQdaE3xwVg",
        "outputId": "e0b9f5df-cb41-4434-a8e9-6a62e8758edf"
      },
      "execution_count": null,
      "outputs": [
        {
          "output_type": "stream",
          "name": "stdout",
          "text": [
            "[mlfoundry] 2022-06-21T15:44:47+0000 WARNING failed to log git info because git repository is not present\n",
            "[mlfoundry] 2022-06-21T15:44:47+0000 INFO Run is created with name 'parameter-set-1' and id 'bebdbab9b6934fe18d14e94a7af7322c'\n",
            "[mlfoundry] 2022-06-21T15:44:49+0000 WARNING failed to log git info because git repository is not present\n",
            "[mlfoundry] 2022-06-21T15:44:49+0000 INFO Run is created with name 'parameter-set-2' and id '474a0af65535460499bb2645a0225f95'\n",
            "[mlfoundry] 2022-06-21T15:44:51+0000 WARNING failed to log git info because git repository is not present\n",
            "[mlfoundry] 2022-06-21T15:44:51+0000 INFO Run is created with name 'parameter-set-3' and id '901573d5d0264b31b45e6e455fbb496a'\n",
            "[mlfoundry] 2022-06-21T15:44:55+0000 WARNING failed to log git info because git repository is not present\n",
            "[mlfoundry] 2022-06-21T15:44:55+0000 INFO Run is created with name 'parameter-set-4' and id '1bf5e027effa4cb29526d9b42a76de5d'\n",
            "[mlfoundry] 2022-06-21T15:44:58+0000 WARNING failed to log git info because git repository is not present\n",
            "[mlfoundry] 2022-06-21T15:44:58+0000 INFO Run is created with name 'parameter-set-5' and id '097934ff7c92464c93ed8ea4524af46e'\n",
            "[mlfoundry] 2022-06-21T15:45:02+0000 WARNING failed to log git info because git repository is not present\n",
            "[mlfoundry] 2022-06-21T15:45:02+0000 INFO Run is created with name 'parameter-set-6' and id 'fc24456207e6471493c34dea19cc70e6'\n",
            "[mlfoundry] 2022-06-21T15:45:04+0000 INFO Tags set successfully\n",
            "[mlfoundry] 2022-06-21T15:45:06+0000 INFO Tags set successfully\n",
            "[mlfoundry] 2022-06-21T15:45:08+0000 INFO Tags set successfully\n",
            "[mlfoundry] 2022-06-21T15:45:09+0000 INFO Tags set successfully\n",
            "[mlfoundry] 2022-06-21T15:45:11+0000 INFO Tags set successfully\n",
            "[mlfoundry] 2022-06-21T15:45:12+0000 INFO Tags set successfully\n",
            "[mlfoundry] 2022-06-21T15:45:14+0000 INFO Parameters logged successfully\n",
            "[mlfoundry] 2022-06-21T15:45:16+0000 INFO Metrics logged successfully\n",
            "[mlfoundry] 2022-06-21T15:45:18+0000 INFO Parameters logged successfully\n",
            "[mlfoundry] 2022-06-21T15:45:20+0000 INFO Metrics logged successfully\n",
            "[mlfoundry] 2022-06-21T15:45:21+0000 INFO Parameters logged successfully\n",
            "[mlfoundry] 2022-06-21T15:45:22+0000 INFO Metrics logged successfully\n",
            "[mlfoundry] 2022-06-21T15:45:23+0000 INFO Parameters logged successfully\n",
            "[mlfoundry] 2022-06-21T15:45:24+0000 INFO Metrics logged successfully\n",
            "[mlfoundry] 2022-06-21T15:45:26+0000 INFO Parameters logged successfully\n",
            "[mlfoundry] 2022-06-21T15:45:27+0000 INFO Metrics logged successfully\n",
            "[mlfoundry] 2022-06-21T15:45:31+0000 INFO Parameters logged successfully\n",
            "[mlfoundry] 2022-06-21T15:45:32+0000 INFO Metrics logged successfully\n",
            "[mlfoundry] 2022-06-21T15:45:33+0000 INFO Shutting down background jobs and syncing data for run with id 'fc24456207e6471493c34dea19cc70e6', please don't kill this process...\n",
            "[mlfoundry] 2022-06-21T15:45:36+0000 INFO Finished syncing data for run with id 'fc24456207e6471493c34dea19cc70e6'. Thank you for waiting!\n",
            "[mlfoundry] 2022-06-21T15:45:38+0000 INFO Shutting down background jobs and syncing data for run with id '097934ff7c92464c93ed8ea4524af46e', please don't kill this process...\n",
            "[mlfoundry] 2022-06-21T15:45:40+0000 INFO Finished syncing data for run with id '097934ff7c92464c93ed8ea4524af46e'. Thank you for waiting!\n",
            "[mlfoundry] 2022-06-21T15:45:42+0000 INFO Shutting down background jobs and syncing data for run with id '1bf5e027effa4cb29526d9b42a76de5d', please don't kill this process...\n",
            "[mlfoundry] 2022-06-21T15:45:44+0000 INFO Finished syncing data for run with id '1bf5e027effa4cb29526d9b42a76de5d'. Thank you for waiting!\n",
            "[mlfoundry] 2022-06-21T15:45:45+0000 INFO Shutting down background jobs and syncing data for run with id '901573d5d0264b31b45e6e455fbb496a', please don't kill this process...\n",
            "[mlfoundry] 2022-06-21T15:45:45+0000 INFO Finished syncing data for run with id '901573d5d0264b31b45e6e455fbb496a'. Thank you for waiting!\n",
            "[mlfoundry] 2022-06-21T15:45:47+0000 INFO Shutting down background jobs and syncing data for run with id '474a0af65535460499bb2645a0225f95', please don't kill this process...\n",
            "[mlfoundry] 2022-06-21T15:45:48+0000 INFO Finished syncing data for run with id '474a0af65535460499bb2645a0225f95'. Thank you for waiting!\n",
            "[mlfoundry] 2022-06-21T15:45:49+0000 INFO Shutting down background jobs and syncing data for run with id 'bebdbab9b6934fe18d14e94a7af7322c', please don't kill this process...\n",
            "[mlfoundry] 2022-06-21T15:45:49+0000 INFO Finished syncing data for run with id 'bebdbab9b6934fe18d14e94a7af7322c'. Thank you for waiting!\n"
          ]
        }
      ]
    },
    {
      "cell_type": "markdown",
      "source": [
        "## Logging K-fold cross validation scores\n",
        "\n",
        "We use an MLFoundry project to log metrics during k-fold cross validation. \n",
        "\n",
        "**Each run corresponds to a single fold and logs the fold dataset and metrics.**"
      ],
      "metadata": {
        "id": "DRjCrWfQ31D3"
      }
    },
    {
      "cell_type": "code",
      "source": [
        "from sklearn.model_selection import StratifiedKFold\n",
        "\n",
        "iris_df = datasets.load_iris(as_frame=True)\n",
        "\n",
        "features = iris_df.data\n",
        "actuals = iris_df.target.apply(lambda class_index: iris_df.target_names[class_index])\n",
        "\n",
        "kf = StratifiedKFold(n_splits=5)\n",
        "for i, (train_index, test_index) in enumerate(kf.split(features, y=actuals)):\n",
        "    # create a run named fold-n for the nth-fold\n",
        "    run = client.create_run(PROJECT_NAME, f'fold-{i+1}')\n",
        "    run.set_tags({'run_type': 'cross_validation'})\n",
        "\n",
        "    X_train, X_test = (\n",
        "          features.iloc[train_index],\n",
        "          features.iloc[test_index],\n",
        "      )\n",
        "    y_train, y_test = (\n",
        "          actuals.iloc[train_index],\n",
        "          actuals.iloc[test_index],\n",
        "      )\n",
        "\n",
        "    # log train dataset\n",
        "    run.log_dataset(\n",
        "      features=X_train,\n",
        "      actuals=y_train,\n",
        "      dataset_name=f\"fold-{i + 1}-train\",\n",
        "      only_stats=True,\n",
        "    )\n",
        "\n",
        "    # log test dataset\n",
        "    run.log_dataset(\n",
        "        features=X_test,\n",
        "        actuals=y_test,\n",
        "        dataset_name=f\"fold-{i + 1}-test\",\n",
        "        only_stats=True,\n",
        "    )\n",
        "\n",
        "    # model training\n",
        "    clf = SVC(gamma='scale', kernel='rbf', probability=True, C=1.2)\n",
        "    clf.fit(X_train, y_train)\n",
        "\n",
        "    y_pred_train = clf.predict(X_train)\n",
        "    y_pred_test = clf.predict(X_test)\n",
        "\n",
        "    metrics = {\n",
        "        'train/accuracy_score': accuracy_score(y_train, y_pred_train),\n",
        "        'train/f1_weighted': f1_score(y_train, y_pred_train, average='weighted'),\n",
        "        'train/f1_mirco': f1_score(y_train, y_pred_train, average='micro'),\n",
        "        'train/f1_macro': f1_score(y_train, y_pred_train, average='macro'),\n",
        "        'test/accuracy_score': accuracy_score(y_test, y_pred_test),\n",
        "        'test/f1_weighted': f1_score(y_test, y_pred_test, average='weighted'),\n",
        "        'test/f1_mirco': f1_score(y_test, y_pred_test, average='micro'),\n",
        "        'test/f1_macro': f1_score(y_test, y_pred_test, average='macro'),\n",
        "    }\n",
        "\n",
        "    run.log_metrics(metrics)"
      ],
      "metadata": {
        "id": "yXMO7NdC4RIn"
      },
      "execution_count": null,
      "outputs": []
    },
    {
      "cell_type": "markdown",
      "source": [
        "## Logging K-fold cross validation in a single run\n",
        "\n",
        "In the above cell, we logged cross validation metrics for each fold in a separate run. We can also log it in a single run by specifying the `step` argument with `log_metrics`"
      ],
      "metadata": {
        "id": "Je6IJF_A0iM6"
      }
    },
    {
      "cell_type": "code",
      "source": [
        "run = client.create_run(PROJECT_NAME, 'cross-validation-run')\n",
        "\n",
        "for i, (train_index, test_index) in enumerate(kf.split(features, y=actuals)):\n",
        "    X_train, X_test = (\n",
        "          features.iloc[train_index],\n",
        "          features.iloc[test_index],\n",
        "      )\n",
        "    y_train, y_test = (\n",
        "          actuals.iloc[train_index],\n",
        "          actuals.iloc[test_index],\n",
        "      )\n",
        "\n",
        "    # model training\n",
        "    clf = SVC(gamma='scale', kernel='rbf', probability=True, C=1.2)\n",
        "    clf.fit(X_train, y_train)\n",
        "\n",
        "    y_pred_train = clf.predict(X_train)\n",
        "    y_pred_test = clf.predict(X_test)\n",
        "\n",
        "    metrics = {\n",
        "        'train/accuracy_score': accuracy_score(y_train, y_pred_train),\n",
        "        'train/f1_weighted': f1_score(y_train, y_pred_train, average='weighted'),\n",
        "        'train/f1_mirco': f1_score(y_train, y_pred_train, average='micro'),\n",
        "        'train/f1_macro': f1_score(y_train, y_pred_train, average='macro'),\n",
        "        'test/accuracy_score': accuracy_score(y_test, y_pred_test),\n",
        "        'test/f1_weighted': f1_score(y_test, y_pred_test, average='weighted'),\n",
        "        'test/f1_mirco': f1_score(y_test, y_pred_test, average='micro'),\n",
        "        'test/f1_macro': f1_score(y_test, y_pred_test, average='macro'),\n",
        "    }\n",
        "\n",
        "    run.log_metrics(metrics, i) # pass i as second argument `step`\n",
        "\n",
        "run.end()"
      ],
      "metadata": {
        "id": "hTiLTNcl0tqj"
      },
      "execution_count": null,
      "outputs": []
    }
  ]
}